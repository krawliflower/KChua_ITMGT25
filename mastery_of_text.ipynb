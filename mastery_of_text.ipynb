{
 "cells": [
  {
   "cell_type": "code",
   "execution_count": null,
   "id": "20091315-3ba1-4a41-8f3e-39568ba0b206",
   "metadata": {},
   "outputs": [],
   "source": [
    "#Find a way to save the text stored at https://www.gutenberg.org/cache/epub/10/pg10.txt into a Python variable called `pg10`.\n",
    "\n",
    "import urllib \n",
    "file = urllib.request.urlopen(\"https://www.gutenberg.org/cache/epub/10/pg10.txt\")  \n",
    "\n",
    "pg10 = file.read().decode()\n",
    "#Gutenburg Bible now stored in variable pg10 as one string"
   ]
  },
  {
   "cell_type": "code",
   "execution_count": 5,
   "id": "a0aa8085-bb6e-4f88-ab33-c77de94335f5",
   "metadata": {},
   "outputs": [
    {
     "name": "stdout",
     "output_type": "stream",
     "text": [
      "99969\n"
     ]
    }
   ],
   "source": [
    "#How many lines does the string have?\n",
    "\n",
    "import urllib \n",
    "file = urllib.request.urlopen(\"https://www.gutenberg.org/cache/epub/10/pg10.txt\")  \n",
    "pg10 = file.read().decode()\n",
    "formatted = pg10.split(\"\\n\")\n",
    "\n",
    "num_lines = len(formatted)\n",
    "print(num_lines)\n",
    "#answer:99969"
   ]
  },
  {
   "cell_type": "code",
   "execution_count": 2,
   "id": "01d7b66a-a7fe-483b-95c5-c763f0097515",
   "metadata": {},
   "outputs": [
    {
     "name": "stdout",
     "output_type": "stream",
     "text": [
      "824538\n"
     ]
    }
   ],
   "source": [
    "#How many words does the string have? (where a word is any set of directly-adjacent alphabet characters)\n",
    "import urllib \n",
    "file = urllib.request.urlopen(\"https://www.gutenberg.org/cache/epub/10/pg10.txt\")  \n",
    "pg10 = file.read().decode()\n",
    "\n",
    "thing = pg10.split(\"/n\")\n",
    "word_count = 0\n",
    "for i in thing:\n",
    "    new = len(i.split())\n",
    "    word_count = word_count + new\n",
    "\n",
    "print(word_count)\n",
    "#answer: 824538"
   ]
  },
  {
   "cell_type": "code",
   "execution_count": 3,
   "id": "48701b79-feea-4e80-b656-9e5b67c612f0",
   "metadata": {},
   "outputs": [
    {
     "name": "stdout",
     "output_type": "stream",
     "text": [
      "41\n"
     ]
    }
   ],
   "source": [
    "#How many times does the word \"apostle\", ignoring capitalization, appear in the string?\n",
    "\n",
    "import urllib \n",
    "file = urllib.request.urlopen(\"https://www.gutenberg.org/cache/epub/10/pg10.txt\")  \n",
    "pg10 = file.read().decode()\n",
    "\n",
    "lower = pg10.lower()\n",
    "thing = lower.split(\"/n\")\n",
    "\n",
    "apostle_count = 0\n",
    "for i in thing:\n",
    "    new = i.split()\n",
    "    for i in new:\n",
    "        if i == \"apostle\":\n",
    "            apostle_count = apostle_count + 1        \n",
    "\n",
    "print(apostle_count)\n",
    "#answer: 41"
   ]
  },
  {
   "cell_type": "code",
   "execution_count": 7,
   "id": "ee296879-247a-441e-ac88-4ce9b6c32ee1",
   "metadata": {},
   "outputs": [
    {
     "name": "stdout",
     "output_type": "stream",
     "text": [
      "the\n"
     ]
    }
   ],
   "source": [
    "#What is the most common word, ignoring capitalization, in the string? (where a word is any set of directly-adjacent alphabet characters)\n",
    "\n",
    "import urllib \n",
    "file = urllib.request.urlopen(\"https://www.gutenberg.org/cache/epub/10/pg10.txt\")  \n",
    "pg10 = file.read().decode()\n",
    "\n",
    "lower = pg10.lower()\n",
    "thing = lower.split(\"/n\")\n",
    "\n",
    "words = {}\n",
    "for i in thing:\n",
    "    new = i.split()\n",
    "    for i in new:\n",
    "        try:\n",
    "            words.update({i:words.get(i)+1})\n",
    "        except:\n",
    "            words[i] = 1\n",
    "\n",
    "count = words.values()\n",
    "max_count = max(count)\n",
    "for i in words:\n",
    "    yes = words.get(i)\n",
    "    if yes == max_count:\n",
    "        print(i)\n",
    "#answer: the"
   ]
  },
  {
   "cell_type": "code",
   "execution_count": null,
   "id": "c1d70cd4-2408-4aaf-b719-2aa4cd729994",
   "metadata": {},
   "outputs": [],
   "source": []
  },
  {
   "cell_type": "code",
   "execution_count": null,
   "id": "2b7f39fa-e073-4a24-8a8f-274c0d00fd00",
   "metadata": {},
   "outputs": [],
   "source": []
  }
 ],
 "metadata": {
  "kernelspec": {
   "display_name": "Python 3 (ipykernel)",
   "language": "python",
   "name": "python3"
  },
  "language_info": {
   "codemirror_mode": {
    "name": "ipython",
    "version": 3
   },
   "file_extension": ".py",
   "mimetype": "text/x-python",
   "name": "python",
   "nbconvert_exporter": "python",
   "pygments_lexer": "ipython3",
   "version": "3.11.7"
  }
 },
 "nbformat": 4,
 "nbformat_minor": 5
}
